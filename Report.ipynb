{
 "cells": [
  {
   "cell_type": "markdown",
   "metadata": {},
   "source": [
    "# Report\n",
    "\n",
    "---\n",
    "\n",
    "In this notebook, we will see an implementation for the first project of the [Deep Reinforcement Learning Nanodegree](https://www.udacity.com/course/deep-reinforcement-learning-nanodegree--nd893)."
   ]
  },
  {
   "cell_type": "markdown",
   "metadata": {},
   "source": [
    "## Implementation specs\n",
    "\n",
    "### Summary\n",
    "\n",
    "We implement a [Deep Q-Network](https://www.cs.toronto.edu/~vmnih/docs/dqn.pdf) with the following extensions:\n",
    "\n",
    "* [Double learning](https://arxiv.org/abs/1509.06461)\n",
    "* [Dueling networks](https://arxiv.org/abs/1511.06581)\n",
    "* [Prioritized Experience Replay](https://arxiv.org/abs/1511.05952)\n",
    "\n",
    "A summary of famous extensions to the DQN framework can be found on the [Rainbow DQN paper](https://arxiv.org/abs/1710.02298) -- though we only implement the extensions listed above.\n",
    "\n",
    "Note that this implementation is built as an extension of the provided solution for the [DQN example](https://github.com/udacity/deep-reinforcement-learning/tree/master/dqn/solution), rather than implemented from scratch, but adds non-trivial technical extensions to it.\n",
    "\n",
    "\n",
    "### Details\n",
    "\n",
    "The agent keeps track of two DQNs: a local version, and a target version, one updated less often than the other.\n",
    "\n",
    "#### Dueling DQNs\n",
    "\n",
    "Each DQN is an Actor (Policy) model, mapping states to a list of action values for each action:\n",
    "\n",
    "    s -> [Q(s, a) for a in Actions]\n",
    "\n",
    "The network structure of the dueling networks generate independent estimates for the value function and the advantage function:\n",
    "\n",
    "    s -> Linear(state_size, fc1_units) -> ReLU -> x\n",
    "    x -> Linear(fc1_units, fc2_units / 2) -> ReLU -> Linear(fc2_units / 2, 1) -> V(s)\n",
    "    x -> Linear(fc1_units, fc2_units / 2) -> ReLU -> Linear(fc2_units / 2, action_size) -> A(s, a)\n",
    "\n",
    "The estimates for value and advantage are then combined as follows:\n",
    "\n",
    "$$ Q(s, a) = V(s) + \\left(A(s, a) - \\frac{1}{|\\mathcal{A}|} \\sum_{a_i \\in \\mathcal{A}} A(s, a_i) \\right)$$\n",
    "     \n",
    "By default, 64 units are used on the first layer, and 64 units on the second layer, split between the value function network and the advantage function network.\n",
    "\n",
    "These networks are defined in `model.py`.\n",
    "\n",
    "#### Double DQNs\n",
    "\n",
    "On the update operation, rather than just using the local network to both select the best action and compute its estimated\n",
    "value, we use the local network to pick an action, and then use the target network to compute its estimated value:\n",
    "\n",
    "$$ Q_{expected} = R + \\gamma Q_{network}(s', \\underset{a \\in \\mathcal{A}}{\\operatorname{argmax}} Q_{local}(s', a)) $$\n",
    "\n",
    "This operation is performed at the `learn` method on the agent, in `dqn_agent.py`.\n",
    "    \n",
    "    \n",
    "#### Prioritized Experience Replay\n",
    "    \n",
    "Rather than just keeping a buffer of experiences (s, a, r, s', d), each experience i has a weight $\\delta_i$ associated with it, based on the error between the estimated Q value and the current Q value for that experience when last evaluated:\n",
    "\n",
    "$$ \\delta_i = Q_{target} - Q_{expected}$$\n",
    "\n",
    "$$ p_i = | \\delta_i | + \\epsilon $$\n",
    "\n",
    "$$ P_i = \\frac{p_i^{\\alpha}}{\\sum_j p_j^{\\alpha}} $$\n",
    "\n",
    "$$ w_i = \\left(\\frac{1}{N} \\frac{1}{P_i}\\right)^{\\beta} $$\n",
    "\n",
    "The experiences are then drawn with probabilities proportional to $w_i p_i$.  \n",
    "\n",
    "Unlike on the PER paper, we do not do annealing on $\\beta$, instead picking a fixed value.\n",
    "\n",
    "As indicated on the PER paper, we use a binary tree as a helper data structure to quickly draw samples from a non-uniform distribution; implementation details are available in `sum_tree.py`.\n",
    "\n",
    "The replay buffer is implemented in `memory.py`.\n",
    "\n",
    "\n",
    "#### Hyperparameters\n",
    "\n",
    "Agent hyperparameters may be passed as constructor arguments to `Agent`.  The default values, used in this workbook, are:\n",
    "\n",
    "| parameter    | value  | description                                                                   |\n",
    "|--------------|--------|-------------------------------------------------------------------------------|\n",
    "| buffer_size  | 100000 | Number of experiences to keep on the replay memory for the DQN                |\n",
    "| batch_size   | 64     | Minibatch size used at each learning step                                     |\n",
    "| gamma        | 0.99   | Discount applied to future rewards                                            |\n",
    "| tau          | 1e-3   | Scaling parameter applied to soft update                                      |\n",
    "| learn_rate   | 5e-4   | Learning rate used for the Adam optimizer                                     |\n",
    "| update_every | 4      | Number of agent steps between update operations                               |\n",
    "| per_epsilon  | 1e-5   | Constant added to each probability weight for Prioritized Experience Replay   |\n",
    "| per_alpha    | 0.6    | PER hyperparameter, exponent to scale probability weights                     |\n",
    "| per_beta     | 0.9    | PER hyperparameter, exponent to reduce annealing bias                         |\n",
    "\n",
    "Training hyperparameters are passed on the training function itself, `dqn`, defined below.  The default values are:\n",
    "\n",
    "| parameter                     | value            | description                                                             |\n",
    "|-------------------------------|------------------|-------------------------------------------------------------------------|\n",
    "| n_episodes                    | 2000             | Maximum number of training episodes                                     |\n",
    "| max_t                         | 1000             | Maximum number of steps per episode                                     |\n",
    "| eps_start, eps_end, eps_decay | (1, 0.01, 0.995) |  Interpolation parameters for decaying epsilon on epsilon-greedy policy |\n",
    "| solved_score                  | 13 (later 16)    | Average score required to consider problem solved                       |"
   ]
  },
  {
   "cell_type": "markdown",
   "metadata": {},
   "source": [
    "## Execution"
   ]
  },
  {
   "cell_type": "markdown",
   "metadata": {},
   "source": [
    "Import required system packages:"
   ]
  },
  {
   "cell_type": "code",
   "execution_count": 1,
   "metadata": {},
   "outputs": [],
   "source": [
    "from unityagents import UnityEnvironment\n",
    "import numpy as np"
   ]
  },
  {
   "cell_type": "code",
   "execution_count": 2,
   "metadata": {},
   "outputs": [],
   "source": [
    "import torch\n",
    "from collections import deque\n",
    "import matplotlib.pyplot as plt\n",
    "%matplotlib inline"
   ]
  },
  {
   "cell_type": "markdown",
   "metadata": {},
   "source": [
    "Start the environment!  **_Before running the code cell below_**, change the `file_name` parameter to match the location of the Unity environment that you downloaded.\n",
    "\n",
    "- **Mac**: `\"path/to/Banana.app\"`\n",
    "- **Windows** (x86): `\"path/to/Banana_Windows_x86/Banana.exe\"`\n",
    "- **Windows** (x86_64): `\"path/to/Banana_Windows_x86_64/Banana.exe\"`\n",
    "- **Linux** (x86): `\"path/to/Banana_Linux/Banana.x86\"`\n",
    "- **Linux** (x86_64): `\"path/to/Banana_Linux/Banana.x86_64\"`\n",
    "- **Linux** (x86, headless): `\"path/to/Banana_Linux_NoVis/Banana.x86\"`\n",
    "- **Linux** (x86_64, headless): `\"path/to/Banana_Linux_NoVis/Banana.x86_64\"`\n",
    "\n",
    "For instance, if you are using a Mac, then you downloaded `Banana.app`.  If this file is in the same folder as the notebook, then the line below should appear as follows:\n",
    "```\n",
    "env = UnityEnvironment(file_name=\"Banana.app\")\n",
    "```"
   ]
  },
  {
   "cell_type": "code",
   "execution_count": 3,
   "metadata": {},
   "outputs": [
    {
     "name": "stderr",
     "output_type": "stream",
     "text": [
      "INFO:unityagents:\n",
      "'Academy' started successfully!\n",
      "Unity Academy name: Academy\n",
      "        Number of Brains: 1\n",
      "        Number of External Brains : 1\n",
      "        Lesson number : 0\n",
      "        Reset Parameters :\n",
      "\t\t\n",
      "Unity brain name: BananaBrain\n",
      "        Number of Visual Observations (per agent): 0\n",
      "        Vector Observation space type: continuous\n",
      "        Vector Observation space size (per agent): 37\n",
      "        Number of stacked Vector Observation: 1\n",
      "        Vector Action space type: discrete\n",
      "        Vector Action space size (per agent): 4\n",
      "        Vector Action descriptions: , , , \n"
     ]
    }
   ],
   "source": [
    "env = UnityEnvironment(file_name=\"Banana_Windows_x86_64/Banana.exe\")"
   ]
  },
  {
   "cell_type": "markdown",
   "metadata": {},
   "source": [
    "Let's get the state and action dimensions, and initialize our agent:"
   ]
  },
  {
   "cell_type": "code",
   "execution_count": 4,
   "metadata": {},
   "outputs": [],
   "source": [
    "# get the default brain\n",
    "brain_name = env.brain_names[0]\n",
    "brain = env.brains[brain_name]\n",
    "\n",
    "# reset the environment\n",
    "env_info = env.reset(train_mode=True)[brain_name]"
   ]
  },
  {
   "cell_type": "code",
   "execution_count": 5,
   "metadata": {},
   "outputs": [
    {
     "name": "stdout",
     "output_type": "stream",
     "text": [
      "State size:  37\n",
      "Number of actions: 4\n"
     ]
    }
   ],
   "source": [
    "# state size\n",
    "state_size = len(env_info.vector_observations[0])\n",
    "print('State size: ', state_size)\n",
    "\n",
    "# number of actions\n",
    "action_size = brain.vector_action_space_size\n",
    "print('Number of actions:', action_size)"
   ]
  },
  {
   "cell_type": "code",
   "execution_count": 6,
   "metadata": {},
   "outputs": [],
   "source": [
    "# Initialize agent\n",
    "\n",
    "from dqn_agent import Agent\n",
    "\n",
    "agent = Agent(\n",
    "    state_size=state_size, \n",
    "    action_size=action_size,\n",
    "    seed=0\n",
    ")"
   ]
  },
  {
   "cell_type": "markdown",
   "metadata": {},
   "source": [
    "Now, let's define the interaction with the agent:"
   ]
  },
  {
   "cell_type": "code",
   "execution_count": 7,
   "metadata": {},
   "outputs": [],
   "source": [
    "def dqn(n_episodes=2000, max_t=1000, eps_start=1.0, eps_end=0.01, eps_decay=0.995, solved_score=13):\n",
    "    \"\"\"Deep Q-Learning.\n",
    "    \n",
    "    Params\n",
    "    ======\n",
    "        n_episodes (int): maximum number of training episodes\n",
    "        max_t (int): maximum number of timesteps per episode\n",
    "        eps_start (float): starting value of epsilon, for epsilon-greedy action selection\n",
    "        eps_end (float): minimum value of epsilon\n",
    "        eps_decay (float): multiplicative factor (per episode) for decreasing epsilon\n",
    "    \"\"\"\n",
    "    scores = []                        # list containing scores from each episode\n",
    "    scores_window = deque(maxlen=100)  # last 100 scores\n",
    "    eps = eps_start                    # initialize epsilon\n",
    "    for i_episode in range(1, n_episodes+1):\n",
    "        env_info = env.reset(train_mode=True)[brain_name]\n",
    "        state = env_info.vector_observations[0]\n",
    "        \n",
    "        score = 0\n",
    "        for t in range(max_t):\n",
    "            action = agent.act(state, eps)\n",
    "            \n",
    "            env_info = env.step(action)[brain_name]\n",
    "            next_state = env_info.vector_observations[0]\n",
    "            reward = env_info.rewards[0]\n",
    "            done = env_info.local_done[0]\n",
    "            \n",
    "            agent.step(state, action, reward, next_state, done)\n",
    "            state = next_state\n",
    "            score += reward\n",
    "            if done:\n",
    "                break \n",
    "                \n",
    "        scores_window.append(score)       # save most recent score\n",
    "        scores.append(score)              # save most recent score\n",
    "        eps = max(eps_end, eps_decay*eps) # decrease epsilon\n",
    "        print('\\rEpisode {}\\tAverage Score: {:.2f}'.format(i_episode, np.mean(scores_window)), end=\"\")\n",
    "        if i_episode % 100 == 0:\n",
    "            print('\\rEpisode {}\\tAverage Score: {:.2f}'.format(i_episode, np.mean(scores_window)))\n",
    "        if np.mean(scores_window) >= solved_score:\n",
    "            print('\\nEnvironment solved in {:d} episodes!\\tAverage Score: {:.2f}'.format(i_episode-100, np.mean(scores_window)))\n",
    "            torch.save(agent.qnetwork_local.state_dict(), 'checkpoint.pth')\n",
    "            break\n",
    "    return scores"
   ]
  },
  {
   "cell_type": "code",
   "execution_count": 8,
   "metadata": {},
   "outputs": [
    {
     "name": "stdout",
     "output_type": "stream",
     "text": [
      "Episode 100\tAverage Score: 0.80\n",
      "Episode 200\tAverage Score: 4.60\n",
      "Episode 300\tAverage Score: 7.56\n",
      "Episode 400\tAverage Score: 10.85\n",
      "Episode 463\tAverage Score: 13.01\n",
      "Environment solved in 363 episodes!\tAverage Score: 13.01\n"
     ]
    },
    {
     "data": {
      "image/png": "[encoded data removed]",
      "text/plain": [
       "<Figure size 432x288 with 1 Axes>"
      ]
     },
     "metadata": {
      "needs_background": "light"
     },
     "output_type": "display_data"
    }
   ],
   "source": [
    "scores = dqn(solved_score=13)\n",
    "\n",
    "# plot the scores\n",
    "fig = plt.figure()\n",
    "ax = fig.add_subplot(111)\n",
    "plt.plot(np.arange(len(scores)), scores)\n",
    "plt.ylabel('Score')\n",
    "plt.xlabel('Episode #')\n",
    "plt.show()"
   ]
  },
  {
   "cell_type": "markdown",
   "metadata": {},
   "source": [
    "We are going to go above and beyond and retrain the agent to a higher score, however:"
   ]
  },
  {
   "cell_type": "code",
   "execution_count": 14,
   "metadata": {},
   "outputs": [
    {
     "name": "stdout",
     "output_type": "stream",
     "text": [
      "Episode 100\tAverage Score: 1.05\n",
      "Episode 200\tAverage Score: 3.57\n",
      "Episode 300\tAverage Score: 6.94\n",
      "Episode 400\tAverage Score: 9.940\n",
      "Episode 500\tAverage Score: 13.57\n",
      "Episode 600\tAverage Score: 14.63\n",
      "Episode 700\tAverage Score: 14.96\n",
      "Episode 800\tAverage Score: 15.38\n",
      "Episode 825\tAverage Score: 16.04\n",
      "Environment solved in 725 episodes!\tAverage Score: 16.04\n"
     ]
    },
    {
     "data": {
      "image/png": "[encoded data removed]",
      "text/plain": [
       "<Figure size 432x288 with 1 Axes>"
      ]
     },
     "metadata": {
      "needs_background": "light"
     },
     "output_type": "display_data"
    }
   ],
   "source": [
    "agent = Agent(\n",
    "    state_size=state_size, \n",
    "    action_size=action_size,\n",
    "    seed=0\n",
    ")\n",
    "scores = dqn(solved_score=16)\n",
    "\n",
    "# plot the scores\n",
    "fig = plt.figure()\n",
    "ax = fig.add_subplot(111)\n",
    "plt.plot(np.arange(len(scores)), scores)\n",
    "plt.ylabel('Score')\n",
    "plt.xlabel('Episode #')\n",
    "plt.show()"
   ]
  },
  {
   "cell_type": "markdown",
   "metadata": {},
   "source": [
    "Finally, we can watch the solved agent:"
   ]
  },
  {
   "cell_type": "code",
   "execution_count": 21,
   "metadata": {},
   "outputs": [
    {
     "name": "stdout",
     "output_type": "stream",
     "text": [
      "Score: 18.0\n"
     ]
    }
   ],
   "source": [
    "# load the weights from file\n",
    "agent.qnetwork_local.load_state_dict(torch.load('checkpoint.pth'))\n",
    "\n",
    "env_info = env.reset(train_mode=False)[brain_name] # reset the environment\n",
    "state = env_info.vector_observations[0]            # get the current state\n",
    "score = 0                                          # initialize the score\n",
    "while True:\n",
    "    action = agent.act(state)                      # select an action\n",
    "    env_info = env.step(action)[brain_name]        # send the action to the environment\n",
    "    next_state = env_info.vector_observations[0]   # get the next state\n",
    "    reward = env_info.rewards[0]                   # get the reward\n",
    "    done = env_info.local_done[0]                  # see if episode has finished\n",
    "    score += reward                                # update the score\n",
    "    state = next_state                             # roll over the state to next time step\n",
    "    if done:                                       # exit loop if episode finished\n",
    "        break\n",
    "    \n",
    "print(\"Score: {}\".format(score))"
   ]
  },
  {
   "cell_type": "markdown",
   "metadata": {},
   "source": [
    "When done, close the environment:"
   ]
  },
  {
   "cell_type": "code",
   "execution_count": 22,
   "metadata": {},
   "outputs": [],
   "source": [
    "env.close()"
   ]
  },
  {
   "cell_type": "markdown",
   "metadata": {},
   "source": [
    "## Ideas for future work\n",
    "\n",
    "* Implement remaining extensions on Rainbow DQN for this toy example\n",
    "* Perform a larger hyperparameter search, including hyper parameter annealing\n",
    "* Review literature for more recent DQN extensions"
   ]
  }
 ],
 "metadata": {
  "kernelspec": {
   "display_name": "drlnd",
   "language": "python",
   "name": "drlnd"
  },
  "language_info": {
   "codemirror_mode": {
    "name": "ipython",
    "version": 3
   },
   "file_extension": ".py",
   "mimetype": "text/x-python",
   "name": "python",
   "nbconvert_exporter": "python",
   "pygments_lexer": "ipython3",
   "version": "3.6.8"
  }
 },
 "nbformat": 4,
 "nbformat_minor": 2
}
